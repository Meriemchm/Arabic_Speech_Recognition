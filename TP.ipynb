{
 "cells": [
  {
   "cell_type": "code",
   "execution_count": 5,
   "metadata": {},
   "outputs": [],
   "source": [
    "import numpy as np\n",
    "import matplotlib.pyplot as plt \n",
    "import torch \n",
    "import torch.nn as nn\n",
    "from sklearn.metrics import accuracy_score,f1_score\n",
    "from sklearn.model_selection import train_test_split\n",
    "import torchaudio\n",
    "from torchvision import transforms\n",
    "from torch.utils.data import Dataset ,dataloader\n",
    "import os\n"
   ]
  },
  {
   "cell_type": "markdown",
   "metadata": {},
   "source": [
    "# Hyperparameters"
   ]
  },
  {
   "cell_type": "code",
   "execution_count": 6,
   "metadata": {},
   "outputs": [],
   "source": [
    "ROOT = \"D:\\df\\\\ai\\\\arabic_dataset\""
   ]
  },
  {
   "cell_type": "code",
   "execution_count": 10,
   "metadata": {},
   "outputs": [
    {
     "name": "stdout",
     "output_type": "stream",
     "text": [
      "102-f-40-5-1-64.wav 5\n"
     ]
    }
   ],
   "source": [
    "class VoiceDataset(Dataset):\n",
    "    def __init__(self,data,labels,transform=None) -> None:\n",
    "        super().__init__()\n",
    "        self.data = data \n",
    "        self.labels = labels\n",
    "        self.transform = transform\n",
    "\n",
    "    def __len__(self):\n",
    "        return len(self.data)\n",
    "    def __getitem__(self, index) :\n",
    "\n",
    "        file = self.data[index]\n",
    "        waveform = torchaudio.load()\n",
    "\n",
    "        if self.transform != None :\n",
    "            waveform = self.transform(waveform)\n",
    "        \n",
    "        label = self.labels[index]\n",
    "        return waveform , label \n",
    "    \n",
    "\n",
    "\n",
    "def load_Data():\n",
    "    files = os.listdir(os.path.join(ROOT,\"wavs\"))\n",
    "    labels = list(map(lambda x:x.split(\"-\")[3],files))\n",
    "    return files,labels\n",
    "\n",
    "\n",
    "\n",
    "data,labels = load_Data()\n",
    "print(data[86],labels[86])\n"
   ]
  }
 ],
 "metadata": {
  "kernelspec": {
   "display_name": "Python 3",
   "language": "python",
   "name": "python3"
  },
  "language_info": {
   "codemirror_mode": {
    "name": "ipython",
    "version": 3
   },
   "file_extension": ".py",
   "mimetype": "text/x-python",
   "name": "python",
   "nbconvert_exporter": "python",
   "pygments_lexer": "ipython3",
   "version": "3.9.7"
  }
 },
 "nbformat": 4,
 "nbformat_minor": 2
}
